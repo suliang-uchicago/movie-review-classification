{
 "cells": [
  {
   "attachments": {},
   "cell_type": "markdown",
   "metadata": {},
   "source": [
    "# Movie review classification"
   ]
  },
  {
   "attachments": {},
   "cell_type": "markdown",
   "metadata": {},
   "source": [
    "Kaggle competetion: Movie review classification\n",
    "\n",
    "    Original dataset: https://www.kaggle.com/datasets/lakshmi25npathi/imdb-dataset-of-50k-movie-reviews?datasetId=134715&sortBy=voteCount\n",
    "\n",
    "The tasks are to:\n",
    "\n",
    "    We aim to classify movie reviews as either positive or negative based on their textual content.\n",
    "    Distinguish between Positive - 1, Negative - 0 movie review using various models\n",
    "\n",
    "Potential ML Models:\n",
    "\n",
    "    Logistic Regression\n",
    "    Naive Bayes\n",
    "    Support Vector Machines (SVM)\n",
    "\n",
    "Part-1: Data Overview\n",
    "\n",
    "    The \"IMDB Dataset.csv\" is a dataset of 50,000 movie reviews in English, with an equal number of positive and negative reviews. Each review is represented as a string of text, and each review is labeled as either \"positive\" or \"negative\" based on its sentiment.\n",
    "    Load the dataset using pandas and preview the top 5 rows.\n",
    "    Print the shape and attributes of the dataset.\n",
    "    Generate descriptive statistics and analyze the columns to see the data types and missing values.\n",
    "    Check if the data is balanced and plot the count of positive and negative reviews.\n",
    "    Visualize the distribution of the length of the reviews using a histogram.\n",
    "\n",
    "Part-2: Data Preprocessing\n",
    "\n",
    "    import the necessary libraries\n",
    "    load the data into a pandas DataFrame\n",
    "    convert the sentiment labels in the sentiment column from strings to binary values and the string labels \"positive\" and \"negative\" are replaced by the binary values 1 and 0\n",
    "    preprocess the textual data using the CountVectorizer, removes stop words and converting text to lowercase\n",
    "    store the sentiment labels of the reviews in a separate variable 'y'\n",
    "    split the data into training and testing sets using the train_test_split() function\n",
    "\n",
    "Part-3.1: \n",
    "    \n",
    "    Algorithm 1 (Logistic Regression)\n",
    "\n",
    "Part-3.2: \n",
    "    \n",
    "    Algorithm 2 (Naive Bayes)\n",
    "\n",
    "Part-3.3: \n",
    "    \n",
    "    Algorithm 3 (Support Vector Machine -- SVM)\n",
    "\n",
    "Part-4: \n",
    "   \n",
    "    Model Comparison and Conclusion"
   ]
  },
  {
   "attachments": {},
   "cell_type": "markdown",
   "metadata": {},
   "source": [
    "# Imports libraries"
   ]
  },
  {
   "cell_type": "code",
   "execution_count": 329,
   "metadata": {},
   "outputs": [],
   "source": [
    "import pandas as pd\n",
    "import numpy as np\n",
    "\n",
    "import matplotlib.pyplot as plt\n",
    "import seaborn as sns\n",
    "\n",
    "from sklearn.feature_extraction.text import CountVectorizer\n",
    "from sklearn.model_selection import train_test_split\n",
    "from sklearn.linear_model import LogisticRegression\n",
    "from sklearn.naive_bayes import MultinomialNB\n",
    "from sklearn.svm import LinearSVC\n",
    "from sklearn.metrics import accuracy_score, confusion_matrix, classification_report\n",
    "\n",
    "from wordcloud import WordCloud\n",
    "\n",
    "\n"
   ]
  },
  {
   "attachments": {},
   "cell_type": "markdown",
   "metadata": {},
   "source": [
    "# Part-1: Data overview"
   ]
  },
  {
   "attachments": {},
   "cell_type": "markdown",
   "metadata": {},
   "source": [
    "Load and explore the data"
   ]
  },
  {
   "cell_type": "code",
   "execution_count": 330,
   "metadata": {},
   "outputs": [
    {
     "data": {
      "text/html": [
       "<div>\n",
       "<style scoped>\n",
       "    .dataframe tbody tr th:only-of-type {\n",
       "        vertical-align: middle;\n",
       "    }\n",
       "\n",
       "    .dataframe tbody tr th {\n",
       "        vertical-align: top;\n",
       "    }\n",
       "\n",
       "    .dataframe thead th {\n",
       "        text-align: right;\n",
       "    }\n",
       "</style>\n",
       "<table border=\"1\" class=\"dataframe\">\n",
       "  <thead>\n",
       "    <tr style=\"text-align: right;\">\n",
       "      <th></th>\n",
       "      <th>review</th>\n",
       "      <th>sentiment</th>\n",
       "    </tr>\n",
       "  </thead>\n",
       "  <tbody>\n",
       "    <tr>\n",
       "      <th>0</th>\n",
       "      <td>One of the other reviewers has mentioned that ...</td>\n",
       "      <td>positive</td>\n",
       "    </tr>\n",
       "    <tr>\n",
       "      <th>1</th>\n",
       "      <td>A wonderful little production. &lt;br /&gt;&lt;br /&gt;The...</td>\n",
       "      <td>positive</td>\n",
       "    </tr>\n",
       "    <tr>\n",
       "      <th>2</th>\n",
       "      <td>I thought this was a wonderful way to spend ti...</td>\n",
       "      <td>positive</td>\n",
       "    </tr>\n",
       "    <tr>\n",
       "      <th>3</th>\n",
       "      <td>Basically there's a family where a little boy ...</td>\n",
       "      <td>negative</td>\n",
       "    </tr>\n",
       "    <tr>\n",
       "      <th>4</th>\n",
       "      <td>Petter Mattei's \"Love in the Time of Money\" is...</td>\n",
       "      <td>positive</td>\n",
       "    </tr>\n",
       "  </tbody>\n",
       "</table>\n",
       "</div>"
      ],
      "text/plain": [
       "                                              review sentiment\n",
       "0  One of the other reviewers has mentioned that ...  positive\n",
       "1  A wonderful little production. <br /><br />The...  positive\n",
       "2  I thought this was a wonderful way to spend ti...  positive\n",
       "3  Basically there's a family where a little boy ...  negative\n",
       "4  Petter Mattei's \"Love in the Time of Money\" is...  positive"
      ]
     },
     "execution_count": 330,
     "metadata": {},
     "output_type": "execute_result"
    }
   ],
   "source": [
    "# load the data into a pandas DataFrame using the read_csv() function\n",
    "data = pd.read_csv(\"/Users/whatnameishoulduse/Desktop/33002_23w_p2-suliang-uchicago/IMDB Dataset.csv\")\n",
    "# preview the top-5 rows of the data\n",
    "data.head(5)\n"
   ]
  },
  {
   "cell_type": "code",
   "execution_count": 331,
   "metadata": {},
   "outputs": [
    {
     "name": "stdout",
     "output_type": "stream",
     "text": [
      "Shape: (50000, 2)\n"
     ]
    }
   ],
   "source": [
    "print('Shape:', data.shape)"
   ]
  },
  {
   "cell_type": "code",
   "execution_count": 332,
   "metadata": {},
   "outputs": [
    {
     "name": "stdout",
     "output_type": "stream",
     "text": [
      "Attributes: Index(['review', 'sentiment'], dtype='object')\n"
     ]
    }
   ],
   "source": [
    "# attribute for each data sample\n",
    "print('Attributes:', data.columns)\n"
   ]
  },
  {
   "cell_type": "code",
   "execution_count": 333,
   "metadata": {},
   "outputs": [
    {
     "data": {
      "text/html": [
       "<div>\n",
       "<style scoped>\n",
       "    .dataframe tbody tr th:only-of-type {\n",
       "        vertical-align: middle;\n",
       "    }\n",
       "\n",
       "    .dataframe tbody tr th {\n",
       "        vertical-align: top;\n",
       "    }\n",
       "\n",
       "    .dataframe thead th {\n",
       "        text-align: right;\n",
       "    }\n",
       "</style>\n",
       "<table border=\"1\" class=\"dataframe\">\n",
       "  <thead>\n",
       "    <tr style=\"text-align: right;\">\n",
       "      <th></th>\n",
       "      <th>review</th>\n",
       "      <th>sentiment</th>\n",
       "    </tr>\n",
       "  </thead>\n",
       "  <tbody>\n",
       "    <tr>\n",
       "      <th>count</th>\n",
       "      <td>50000</td>\n",
       "      <td>50000</td>\n",
       "    </tr>\n",
       "    <tr>\n",
       "      <th>unique</th>\n",
       "      <td>49582</td>\n",
       "      <td>2</td>\n",
       "    </tr>\n",
       "    <tr>\n",
       "      <th>top</th>\n",
       "      <td>Loved today's show!!! It was a variety and not...</td>\n",
       "      <td>positive</td>\n",
       "    </tr>\n",
       "    <tr>\n",
       "      <th>freq</th>\n",
       "      <td>5</td>\n",
       "      <td>25000</td>\n",
       "    </tr>\n",
       "  </tbody>\n",
       "</table>\n",
       "</div>"
      ],
      "text/plain": [
       "                                                   review sentiment\n",
       "count                                               50000     50000\n",
       "unique                                              49582         2\n",
       "top     Loved today's show!!! It was a variety and not...  positive\n",
       "freq                                                    5     25000"
      ]
     },
     "execution_count": 333,
     "metadata": {},
     "output_type": "execute_result"
    }
   ],
   "source": [
    "# generate descriptive statistics for the data\n",
    "data.describe()"
   ]
  },
  {
   "cell_type": "code",
   "execution_count": 334,
   "metadata": {},
   "outputs": [
    {
     "name": "stdout",
     "output_type": "stream",
     "text": [
      "<class 'pandas.core.frame.DataFrame'>\n",
      "RangeIndex: 50000 entries, 0 to 49999\n",
      "Data columns (total 2 columns):\n",
      " #   Column     Non-Null Count  Dtype \n",
      "---  ------     --------------  ----- \n",
      " 0   review     50000 non-null  object\n",
      " 1   sentiment  50000 non-null  object\n",
      "dtypes: object(2)\n",
      "memory usage: 781.4+ KB\n"
     ]
    }
   ],
   "source": [
    "# Analyze the columns to see the data types and missing values\n",
    "data.info()"
   ]
  },
  {
   "cell_type": "code",
   "execution_count": 335,
   "metadata": {},
   "outputs": [
    {
     "data": {
      "text/plain": [
       "positive    25000\n",
       "negative    25000\n",
       "Name: sentiment, dtype: int64"
      ]
     },
     "execution_count": 335,
     "metadata": {},
     "output_type": "execute_result"
    }
   ],
   "source": [
    "# check if the data is balanced\n",
    "data.sentiment.value_counts()\n"
   ]
  },
  {
   "cell_type": "code",
   "execution_count": 336,
   "metadata": {},
   "outputs": [
    {
     "data": {
      "text/plain": [
       "<Axes: xlabel='sentiment', ylabel='count'>"
      ]
     },
     "execution_count": 336,
     "metadata": {},
     "output_type": "execute_result"
    },
    {
     "data": {
      "image/png": "[encoded data removed]",
      "text/plain": [
       "<Figure size 400x400 with 1 Axes>"
      ]
     },
     "metadata": {},
     "output_type": "display_data"
    }
   ],
   "source": [
    "plt.figure(figsize=(4, 4)) # set the size of the figure\n",
    "sns.countplot(x='sentiment', data=data) # plot the countplot"
   ]
  },
  {
   "cell_type": "code",
   "execution_count": 337,
   "metadata": {},
   "outputs": [
    {
     "data": {
      "text/plain": [
       "<Axes: >"
      ]
     },
     "execution_count": 337,
     "metadata": {},
     "output_type": "execute_result"
    },
    {
     "data": {
      "image/png": "[encoded data removed]",
      "text/plain": [
       "<Figure size 640x480 with 1 Axes>"
      ]
     },
     "metadata": {},
     "output_type": "display_data"
    }
   ],
   "source": [
    "# visualize the distribution of the length of the reviews\n",
    "data['review_length'] = data['review'].apply(len)\n",
    "data['review_length'].hist(bins=50)\n",
    "\n",
    "\n"
   ]
  },
  {
   "cell_type": "code",
   "execution_count": 338,
   "metadata": {},
   "outputs": [
    {
     "data": {
      "image/png": "[encoded data removed]",
      "text/plain": [
       "<Figure size 640x480 with 1 Axes>"
      ]
     },
     "metadata": {},
     "output_type": "display_data"
    }
   ],
   "source": [
    "# hisogram of positive reviews and negative reviews separately\n",
    "data[data['sentiment'] == 'positive']['review_length'].hist(bins=50, color='blue', label='positive', alpha=0.6)\n",
    "data[data['sentiment'] == 'negative']['review_length'].hist(bins=50, color='red', label='negative', alpha=0.6)\n",
    "plt.legend()\n",
    "plt.xlabel('Review Length')\n",
    "plt.ylabel('Count')\n",
    "plt.show()\n"
   ]
  },
  {
   "attachments": {},
   "cell_type": "markdown",
   "metadata": {},
   "source": [
    "# Part-2: Data Preprocessing"
   ]
  },
  {
   "attachments": {},
   "cell_type": "markdown",
   "metadata": {},
   "source": [
    "In this section, we focus on making the data reay to use for ML models. It includes:\n",
    "\n",
    "    convert the sentiment labels in the sentiment column from strings to binary values and the string labels \"positive\" and \"negative\" are replaced by the binary values 1 and 0;\n",
    "\n",
    "    preprocess the textual data using the CountVectorizer, removes stop words and converting text to lowercase;\n",
    "\n",
    "    using fit_transform() method of the CountVectorizer object transforms the textual data into a matrix of token counts;\n",
    "\n",
    "    store the sentiment labels of the reviews in a separate variable y;\n",
    "\n",
    "    split the data into 80% training data and 20% testing data using the train_test_split() function with a fixed random seed for reproducibility.\n",
    "    "
   ]
  },
  {
   "attachments": {},
   "cell_type": "markdown",
   "metadata": {},
   "source": [
    "Convert the sentiment labels in the sentiment column from strings to binary values and the string labels \"positive\" and \"negative\" are replaced by the binary values 1 and 0."
   ]
  },
  {
   "cell_type": "code",
   "execution_count": 341,
   "metadata": {},
   "outputs": [],
   "source": [
    "data[\"sentiment\"] = data[\"sentiment\"].map({'positive': 1, 'negative': 0})"
   ]
  },
  {
   "attachments": {},
   "cell_type": "markdown",
   "metadata": {},
   "source": [
    "Preprocess the textual data using the CountVectorizer, removes stop words and converting text to lowercase."
   ]
  },
  {
   "cell_type": "code",
   "execution_count": 342,
   "metadata": {},
   "outputs": [],
   "source": [
    "\n",
    "vectorizer = CountVectorizer(stop_words='english', lowercase=True)\n"
   ]
  },
  {
   "attachments": {},
   "cell_type": "markdown",
   "metadata": {},
   "source": [
    "Using fit_transform() method of the CountVectorizer object transforms the textual data into a matrix of token counts."
   ]
  },
  {
   "cell_type": "code",
   "execution_count": 343,
   "metadata": {},
   "outputs": [],
   "source": [
    "X = vectorizer.fit_transform(data[\"review\"])"
   ]
  },
  {
   "attachments": {},
   "cell_type": "markdown",
   "metadata": {},
   "source": [
    "Store the sentiment labels of the reviews in a separate variable y."
   ]
  },
  {
   "cell_type": "code",
   "execution_count": 344,
   "metadata": {},
   "outputs": [],
   "source": [
    "y = data[\"sentiment\"]"
   ]
  },
  {
   "attachments": {},
   "cell_type": "markdown",
   "metadata": {},
   "source": [
    "Split the data into 80% training data and 20% testing data using the train_test_split() function with a fixed random seed for reproducibility."
   ]
  },
  {
   "cell_type": "code",
   "execution_count": 345,
   "metadata": {},
   "outputs": [],
   "source": [
    "X_train, X_test, y_train, y_test = train_test_split(X, y, test_size=0.2, random_state=42)"
   ]
  },
  {
   "attachments": {},
   "cell_type": "markdown",
   "metadata": {},
   "source": [
    "# Part-3.1: Algorithm 1 (Logistic Regression)"
   ]
  },
  {
   "cell_type": "markdown",
   "metadata": {},
   "source": [
    "we will use logistic regression as our classification model and we will use the default parameters settings in this model\n"
   ]
  },
  {
   "cell_type": "code",
   "execution_count": 346,
   "metadata": {},
   "outputs": [
    {
     "data": {
      "text/html": [
       "<style>#sk-container-id-24 {color: black;background-color: white;}#sk-container-id-24 pre{padding: 0;}#sk-container-id-24 div.sk-toggleable {background-color: white;}#sk-container-id-24 label.sk-toggleable__label {cursor: pointer;display: block;width: 100%;margin-bottom: 0;padding: 0.3em;box-sizing: border-box;text-align: center;}#sk-container-id-24 label.sk-toggleable__label-arrow:before {content: \"▸\";float: left;margin-right: 0.25em;color: #696969;}#sk-container-id-24 label.sk-toggleable__label-arrow:hover:before {color: black;}#sk-container-id-24 div.sk-estimator:hover label.sk-toggleable__label-arrow:before {color: black;}#sk-container-id-24 div.sk-toggleable__content {max-height: 0;max-width: 0;overflow: hidden;text-align: left;background-color: #f0f8ff;}#sk-container-id-24 div.sk-toggleable__content pre {margin: 0.2em;color: black;border-radius: 0.25em;background-color: #f0f8ff;}#sk-container-id-24 input.sk-toggleable__control:checked~div.sk-toggleable__content {max-height: 200px;max-width: 100%;overflow: auto;}#sk-container-id-24 input.sk-toggleable__control:checked~label.sk-toggleable__label-arrow:before {content: \"▾\";}#sk-container-id-24 div.sk-estimator input.sk-toggleable__control:checked~label.sk-toggleable__label {background-color: #d4ebff;}#sk-container-id-24 div.sk-label input.sk-toggleable__control:checked~label.sk-toggleable__label {background-color: #d4ebff;}#sk-container-id-24 input.sk-hidden--visually {border: 0;clip: rect(1px 1px 1px 1px);clip: rect(1px, 1px, 1px, 1px);height: 1px;margin: -1px;overflow: hidden;padding: 0;position: absolute;width: 1px;}#sk-container-id-24 div.sk-estimator {font-family: monospace;background-color: #f0f8ff;border: 1px dotted black;border-radius: 0.25em;box-sizing: border-box;margin-bottom: 0.5em;}#sk-container-id-24 div.sk-estimator:hover {background-color: #d4ebff;}#sk-container-id-24 div.sk-parallel-item::after {content: \"\";width: 100%;border-bottom: 1px solid gray;flex-grow: 1;}#sk-container-id-24 div.sk-label:hover label.sk-toggleable__label {background-color: #d4ebff;}#sk-container-id-24 div.sk-serial::before {content: \"\";position: absolute;border-left: 1px solid gray;box-sizing: border-box;top: 0;bottom: 0;left: 50%;z-index: 0;}#sk-container-id-24 div.sk-serial {display: flex;flex-direction: column;align-items: center;background-color: white;padding-right: 0.2em;padding-left: 0.2em;position: relative;}#sk-container-id-24 div.sk-item {position: relative;z-index: 1;}#sk-container-id-24 div.sk-parallel {display: flex;align-items: stretch;justify-content: center;background-color: white;position: relative;}#sk-container-id-24 div.sk-item::before, #sk-container-id-24 div.sk-parallel-item::before {content: \"\";position: absolute;border-left: 1px solid gray;box-sizing: border-box;top: 0;bottom: 0;left: 50%;z-index: -1;}#sk-container-id-24 div.sk-parallel-item {display: flex;flex-direction: column;z-index: 1;position: relative;background-color: white;}#sk-container-id-24 div.sk-parallel-item:first-child::after {align-self: flex-end;width: 50%;}#sk-container-id-24 div.sk-parallel-item:last-child::after {align-self: flex-start;width: 50%;}#sk-container-id-24 div.sk-parallel-item:only-child::after {width: 0;}#sk-container-id-24 div.sk-dashed-wrapped {border: 1px dashed gray;margin: 0 0.4em 0.5em 0.4em;box-sizing: border-box;padding-bottom: 0.4em;background-color: white;}#sk-container-id-24 div.sk-label label {font-family: monospace;font-weight: bold;display: inline-block;line-height: 1.2em;}#sk-container-id-24 div.sk-label-container {text-align: center;}#sk-container-id-24 div.sk-container {/* jupyter's `normalize.less` sets `[hidden] { display: none; }` but bootstrap.min.css set `[hidden] { display: none !important; }` so we also need the `!important` here to be able to override the default hidden behavior on the sphinx rendered scikit-learn.org. See: https://github.com/scikit-learn/scikit-learn/issues/21755 */display: inline-block !important;position: relative;}#sk-container-id-24 div.sk-text-repr-fallback {display: none;}</style><div id=\"sk-container-id-24\" class=\"sk-top-container\"><div class=\"sk-text-repr-fallback\"><pre>LogisticRegression(max_iter=1000)</pre><b>In a Jupyter environment, please rerun this cell to show the HTML representation or trust the notebook. <br />On GitHub, the HTML representation is unable to render, please try loading this page with nbviewer.org.</b></div><div class=\"sk-container\" hidden><div class=\"sk-item\"><div class=\"sk-estimator sk-toggleable\"><input class=\"sk-toggleable__control sk-hidden--visually\" id=\"sk-estimator-id-24\" type=\"checkbox\" checked><label for=\"sk-estimator-id-24\" class=\"sk-toggleable__label sk-toggleable__label-arrow\">LogisticRegression</label><div class=\"sk-toggleable__content\"><pre>LogisticRegression(max_iter=1000)</pre></div></div></div></div></div>"
      ],
      "text/plain": [
       "LogisticRegression(max_iter=1000)"
      ]
     },
     "execution_count": 346,
     "metadata": {},
     "output_type": "execute_result"
    }
   ],
   "source": [
    "# create a logistic regression model, set the maximum number of iterations to 1000 and fit it to the training data \n",
    "logreg = LogisticRegression(max_iter=1000)\n",
    "logreg.fit(X_train, y_train)\n"
   ]
  },
  {
   "cell_type": "code",
   "execution_count": 347,
   "metadata": {},
   "outputs": [
    {
     "name": "stdout",
     "output_type": "stream",
     "text": [
      "Accuracy of logistic regression classifier on test set: 0.88\n"
     ]
    }
   ],
   "source": [
    "# evaluate the model on the test data\n",
    "logreg.score(X_test, y_test)\n",
    "print('Accuracy of logistic regression classifier on test set: {:.2f}'.format(logreg.score(X_test, y_test)))"
   ]
  },
  {
   "attachments": {},
   "cell_type": "markdown",
   "metadata": {},
   "source": [
    "Our logistic regression model achieves an accuracy of around 88% on the testing data."
   ]
  },
  {
   "cell_type": "code",
   "execution_count": 348,
   "metadata": {},
   "outputs": [],
   "source": [
    "# use np.array(vectorizer.get_feature_names_out()) to obtain an array of the feature names after vectorizing the textual data using a vectorizer objec\n",
    "feature_names = np.array(vectorizer.get_feature_names_out())\n"
   ]
  },
  {
   "cell_type": "code",
   "execution_count": 349,
   "metadata": {},
   "outputs": [
    {
     "data": {
      "text/plain": [
       "array([-8.58144480e-03, -2.09122201e-01, -3.49181266e-02, ...,\n",
       "       -1.55504764e-05, -6.26865565e-02, -6.26865565e-02])"
      ]
     },
     "execution_count": 349,
     "metadata": {},
     "output_type": "execute_result"
    }
   ],
   "source": [
    "# coefficients for the logistic regression model\n",
    "coefficients = logreg.coef_[0]\n",
    "coefficients"
   ]
  },
  {
   "cell_type": "code",
   "execution_count": 350,
   "metadata": {},
   "outputs": [],
   "source": [
    "# sort the coefficients from the model using argsort\n",
    "sorted_coef_index = logreg.coef_[0].argsort()"
   ]
  },
  {
   "cell_type": "code",
   "execution_count": 351,
   "metadata": {},
   "outputs": [
    {
     "name": "stdout",
     "output_type": "stream",
     "text": [
      "Top positive coefficients:\n",
      "['waste' 'disappointment' 'worst' 'uninteresting' 'mst3k' 'awful'\n",
      " 'disappointing' 'poorly' 'forgettable' 'boredom']\n",
      "\n"
     ]
    }
   ],
   "source": [
    "# get the top coefficients features for the positive class\n",
    "top_positive_coefficients = feature_names[sorted_coef_index[:10]]\n",
    "print('Top positive coefficients:\\n{}\\n'.format(top_positive_coefficients))\n"
   ]
  },
  {
   "cell_type": "code",
   "execution_count": 352,
   "metadata": {},
   "outputs": [
    {
     "name": "stdout",
     "output_type": "stream",
     "text": [
      "Top negative coefficients:\n",
      "['refreshing' 'hooked' 'disappoint' 'funniest' 'underrated' 'dismiss'\n",
      " 'pleased' 'apocalyptic' 'wonderfully' 'ringwald']\n",
      "\n"
     ]
    }
   ],
   "source": [
    "# get the top coefficients features for the negative class\n",
    "top_negative_coefficients = feature_names[sorted_coef_index[:-11:-1]]\n",
    "print('Top negative coefficients:\\n{}\\n'.format(top_negative_coefficients))"
   ]
  },
  {
   "attachments": {},
   "cell_type": "markdown",
   "metadata": {},
   "source": [
    "Examine some examples where the classifier fails to make correct predictions"
   ]
  },
  {
   "cell_type": "code",
   "execution_count": 353,
   "metadata": {},
   "outputs": [],
   "source": [
    "# get the predictions for the test data\n",
    "y_pred = logreg.predict(X_test)"
   ]
  },
  {
   "cell_type": "code",
   "execution_count": 354,
   "metadata": {},
   "outputs": [],
   "source": [
    "# test samples that were incorrectly classified\n",
    "test_sample = X_test[y_pred != y_test]\n"
   ]
  },
  {
   "cell_type": "code",
   "execution_count": 355,
   "metadata": {},
   "outputs": [],
   "source": [
    "# predicted labels for the test samples that were incorrectly classified\n",
    "predicted_labels = y_pred[y_pred != y_test]\n"
   ]
  },
  {
   "cell_type": "code",
   "execution_count": 356,
   "metadata": {},
   "outputs": [],
   "source": [
    "# true labels for the test samples that were incorrectly classified\n",
    "true_labels = y_test[y_pred != y_test]"
   ]
  },
  {
   "cell_type": "code",
   "execution_count": 357,
   "metadata": {},
   "outputs": [
    {
     "name": "stdout",
     "output_type": "stream",
     "text": [
      "Test sample 1 (true label: 1): \n",
      "  (0, 48334)\t2\n",
      "  (0, 54821)\t2\n",
      "  (0, 90676)\t1\n",
      "  (0, 73161)\t1\n",
      "  (0, 39191)\t1\n",
      "  (0, 56134)\t3\n",
      "  (0, 45975)\t2\n",
      "  (0, 63745)\t1\n",
      "  (0, 52602)\t1\n",
      "  (0, 57)\t1\n",
      "  (0, 53434)\t2\n",
      "  (0, 99856)\t1\n",
      "  (0, 9984)\t1\n",
      "  (0, 9700)\t1\n",
      "  (0, 11670)\t1\n",
      "  (0, 90702)\t1\n",
      "  (0, 49391)\t1\n",
      "  (0, 43284)\t1\n",
      "  (0, 52606)\t1\n",
      "  (0, 24913)\t1\n",
      "  (0, 59406)\t1\n",
      "  (0, 91241)\t2\n",
      "  (0, 73213)\t1\n",
      "  (0, 55157)\t2\n",
      "  (0, 90883)\t1\n",
      "  :\t:\n",
      "  (0, 21905)\t1\n",
      "  (0, 56139)\t1\n",
      "  (0, 94110)\t1\n",
      "  (0, 100723)\t2\n",
      "  (0, 9995)\t1\n",
      "  (0, 85527)\t1\n",
      "  (0, 73032)\t1\n",
      "  (0, 100187)\t1\n",
      "  (0, 51599)\t2\n",
      "  (0, 46621)\t1\n",
      "  (0, 23315)\t1\n",
      "  (0, 12384)\t1\n",
      "  (0, 37971)\t1\n",
      "  (0, 26399)\t1\n",
      "  (0, 40607)\t1\n",
      "  (0, 24830)\t1\n",
      "  (0, 47172)\t1\n",
      "  (0, 87118)\t2\n",
      "  (0, 53927)\t3\n",
      "  (0, 53914)\t1\n",
      "  (0, 39467)\t1\n",
      "  (0, 88978)\t1\n",
      "  (0, 40985)\t1\n",
      "  (0, 11655)\t1\n",
      "  (0, 41463)\t1\n",
      "\n",
      "Predicted label: 0\n",
      "\n",
      "Test sample 2 (true label: 1): \n",
      "  (0, 57407)\t1\n",
      "  (0, 48334)\t1\n",
      "  (0, 30033)\t1\n",
      "  (0, 11989)\t8\n",
      "  (0, 90149)\t1\n",
      "  (0, 31709)\t1\n",
      "  (0, 22908)\t1\n",
      "  (0, 78290)\t1\n",
      "  (0, 20547)\t1\n",
      "  (0, 97942)\t1\n",
      "  (0, 38194)\t1\n",
      "  (0, 52288)\t1\n",
      "  (0, 90676)\t3\n",
      "  (0, 79821)\t1\n",
      "  (0, 52509)\t2\n",
      "  (0, 73161)\t1\n",
      "  (0, 68876)\t1\n",
      "  (0, 96113)\t1\n",
      "  (0, 8439)\t1\n",
      "  (0, 86906)\t1\n",
      "  (0, 37834)\t2\n",
      "  (0, 52602)\t4\n",
      "  (0, 66940)\t3\n",
      "  (0, 24957)\t1\n",
      "  (0, 88548)\t1\n",
      "  :\t:\n",
      "  (0, 13057)\t2\n",
      "  (0, 33839)\t1\n",
      "  (0, 66326)\t1\n",
      "  (0, 3732)\t1\n",
      "  (0, 26102)\t1\n",
      "  (0, 77679)\t1\n",
      "  (0, 4946)\t1\n",
      "  (0, 41313)\t2\n",
      "  (0, 20461)\t1\n",
      "  (0, 59337)\t2\n",
      "  (0, 99021)\t1\n",
      "  (0, 57183)\t1\n",
      "  (0, 44012)\t1\n",
      "  (0, 43458)\t1\n",
      "  (0, 19685)\t1\n",
      "  (0, 33544)\t1\n",
      "  (0, 33342)\t2\n",
      "  (0, 57573)\t1\n",
      "  (0, 73360)\t1\n",
      "  (0, 93224)\t1\n",
      "  (0, 71551)\t1\n",
      "  (0, 49281)\t2\n",
      "  (0, 45277)\t1\n",
      "  (0, 45274)\t1\n",
      "  (0, 1614)\t1\n",
      "\n",
      "Predicted label: 0\n",
      "\n",
      "Test sample 3 (true label: 1): \n",
      "  (0, 93010)\t1\n",
      "  (0, 99920)\t2\n",
      "  (0, 43008)\t1\n",
      "  (0, 100551)\t1\n",
      "  (0, 60055)\t1\n",
      "  (0, 33134)\t1\n",
      "  (0, 53434)\t1\n",
      "  (0, 68768)\t1\n",
      "  (0, 6088)\t1\n",
      "  (0, 79944)\t1\n",
      "  (0, 79942)\t2\n",
      "  (0, 28422)\t1\n",
      "  (0, 5335)\t1\n",
      "  (0, 59218)\t1\n",
      "  (0, 64096)\t1\n",
      "  (0, 4801)\t1\n",
      "  (0, 36085)\t1\n",
      "  (0, 90198)\t1\n",
      "  (0, 40928)\t1\n",
      "  (0, 79537)\t1\n",
      "  (0, 3011)\t1\n",
      "  (0, 70821)\t1\n",
      "  (0, 23390)\t1\n",
      "  (0, 82576)\t1\n",
      "  (0, 76143)\t1\n",
      "  :\t:\n",
      "  (0, 29914)\t1\n",
      "  (0, 41935)\t2\n",
      "  (0, 63613)\t1\n",
      "  (0, 74372)\t1\n",
      "  (0, 47376)\t1\n",
      "  (0, 80906)\t1\n",
      "  (0, 41813)\t1\n",
      "  (0, 25164)\t1\n",
      "  (0, 7613)\t1\n",
      "  (0, 42211)\t1\n",
      "  (0, 43341)\t1\n",
      "  (0, 30024)\t1\n",
      "  (0, 94275)\t1\n",
      "  (0, 49411)\t1\n",
      "  (0, 97732)\t1\n",
      "  (0, 41289)\t1\n",
      "  (0, 52578)\t1\n",
      "  (0, 25719)\t1\n",
      "  (0, 85167)\t1\n",
      "  (0, 76136)\t2\n",
      "  (0, 62453)\t1\n",
      "  (0, 72098)\t1\n",
      "  (0, 27746)\t1\n",
      "  (0, 60627)\t1\n",
      "  (0, 54685)\t1\n",
      "\n",
      "Predicted label: 0\n",
      "\n",
      "Test sample 4 (true label: 1): \n",
      "  (0, 48334)\t1\n",
      "  (0, 11989)\t2\n",
      "  (0, 78541)\t1\n",
      "  (0, 80196)\t2\n",
      "  (0, 90676)\t1\n",
      "  (0, 98056)\t1\n",
      "  (0, 14638)\t2\n",
      "  (0, 60055)\t1\n",
      "  (0, 81771)\t1\n",
      "  (0, 59273)\t1\n",
      "  (0, 14132)\t1\n",
      "  (0, 51411)\t1\n",
      "  (0, 5312)\t2\n",
      "  (0, 58454)\t1\n",
      "  (0, 96417)\t1\n",
      "  (0, 41025)\t1\n",
      "  (0, 64399)\t1\n",
      "  (0, 39246)\t2\n",
      "  (0, 18595)\t1\n",
      "  (0, 31328)\t1\n",
      "  (0, 3008)\t1\n",
      "  (0, 41297)\t1\n",
      "  (0, 60596)\t1\n",
      "  (0, 76428)\t1\n",
      "  (0, 70566)\t1\n",
      "  :\t:\n",
      "  (0, 22933)\t1\n",
      "  (0, 65620)\t2\n",
      "  (0, 83405)\t1\n",
      "  (0, 70741)\t1\n",
      "  (0, 73115)\t2\n",
      "  (0, 61334)\t1\n",
      "  (0, 16012)\t1\n",
      "  (0, 17745)\t1\n",
      "  (0, 59309)\t1\n",
      "  (0, 75022)\t1\n",
      "  (0, 78155)\t1\n",
      "  (0, 90723)\t1\n",
      "  (0, 61071)\t1\n",
      "  (0, 40057)\t1\n",
      "  (0, 2845)\t1\n",
      "  (0, 4538)\t1\n",
      "  (0, 87994)\t1\n",
      "  (0, 23575)\t1\n",
      "  (0, 30985)\t1\n",
      "  (0, 43873)\t1\n",
      "  (0, 82857)\t1\n",
      "  (0, 50423)\t2\n",
      "  (0, 38866)\t1\n",
      "  (0, 74214)\t1\n",
      "  (0, 52333)\t1\n",
      "\n",
      "Predicted label: 0\n",
      "\n",
      "Test sample 5 (true label: 1): \n",
      "  (0, 97949)\t1\n",
      "  (0, 40335)\t1\n",
      "  (0, 26329)\t1\n",
      "  (0, 97942)\t1\n",
      "  (0, 90676)\t1\n",
      "  (0, 38631)\t1\n",
      "  (0, 98056)\t1\n",
      "  (0, 96113)\t2\n",
      "  (0, 60055)\t1\n",
      "  (0, 33134)\t3\n",
      "  (0, 52602)\t1\n",
      "  (0, 97933)\t1\n",
      "  (0, 68522)\t1\n",
      "  (0, 50003)\t1\n",
      "  (0, 67915)\t1\n",
      "  (0, 9700)\t4\n",
      "  (0, 2321)\t1\n",
      "  (0, 25272)\t2\n",
      "  (0, 1242)\t1\n",
      "  (0, 32680)\t1\n",
      "  (0, 33198)\t2\n",
      "  (0, 37373)\t1\n",
      "  (0, 32006)\t1\n",
      "  (0, 26515)\t1\n",
      "  (0, 53437)\t1\n",
      "  :\t:\n",
      "  (0, 11683)\t1\n",
      "  (0, 22772)\t1\n",
      "  (0, 22840)\t1\n",
      "  (0, 60804)\t1\n",
      "  (0, 83827)\t1\n",
      "  (0, 74203)\t1\n",
      "  (0, 14547)\t1\n",
      "  (0, 47797)\t1\n",
      "  (0, 75311)\t1\n",
      "  (0, 52916)\t1\n",
      "  (0, 32388)\t1\n",
      "  (0, 65206)\t1\n",
      "  (0, 12548)\t1\n",
      "  (0, 39983)\t1\n",
      "  (0, 98954)\t1\n",
      "  (0, 87951)\t1\n",
      "  (0, 92310)\t2\n",
      "  (0, 12105)\t4\n",
      "  (0, 18482)\t2\n",
      "  (0, 66209)\t1\n",
      "  (0, 58499)\t1\n",
      "  (0, 90862)\t1\n",
      "  (0, 38038)\t1\n",
      "  (0, 87964)\t1\n",
      "  (0, 58085)\t1\n",
      "\n",
      "Predicted label: 0\n",
      "\n"
     ]
    }
   ],
   "source": [
    "# print the example test samples and their predicted/true labels\n",
    "for i in range(5):\n",
    "    print('Test sample {} (true label: {}): \\n{}\\n'.format(i+1, true_labels.iloc[i], test_sample[i]))\n",
    "    print('Predicted label: {}\\n'.format(predicted_labels[i]))\n",
    "    "
   ]
  },
  {
   "cell_type": "code",
   "execution_count": 358,
   "metadata": {},
   "outputs": [
    {
     "data": {
      "text/plain": [
       "array([[4350,  611],\n",
       "       [ 559, 4480]])"
      ]
     },
     "execution_count": 358,
     "metadata": {},
     "output_type": "execute_result"
    }
   ],
   "source": [
    "# create a confusion matrix\n",
    "confusion_matrix(y_test, y_pred)"
   ]
  },
  {
   "cell_type": "code",
   "execution_count": 359,
   "metadata": {},
   "outputs": [
    {
     "data": {
      "image/png": "[encoded data removed]",
      "text/plain": [
       "<Figure size 640x480 with 2 Axes>"
      ]
     },
     "metadata": {},
     "output_type": "display_data"
    }
   ],
   "source": [
    "# create a heatmap of the confusion matrix\n",
    "sns.heatmap(confusion_matrix(y_test, y_pred), annot=True, fmt='d', cmap='Blues')\n",
    "plt.xlabel('Predicted')\n",
    "plt.ylabel('Actual')\n",
    "plt.show()\n"
   ]
  },
  {
   "cell_type": "code",
   "execution_count": 360,
   "metadata": {},
   "outputs": [
    {
     "name": "stdout",
     "output_type": "stream",
     "text": [
      "              precision    recall  f1-score   support\n",
      "\n",
      "           0       0.89      0.88      0.88      4961\n",
      "           1       0.88      0.89      0.88      5039\n",
      "\n",
      "    accuracy                           0.88     10000\n",
      "   macro avg       0.88      0.88      0.88     10000\n",
      "weighted avg       0.88      0.88      0.88     10000\n",
      "\n"
     ]
    }
   ],
   "source": [
    "# print the classification report\n",
    "print(classification_report(y_test, y_pred))\n"
   ]
  },
  {
   "attachments": {},
   "cell_type": "markdown",
   "metadata": {},
   "source": [
    "Interpret the results: \n",
    "\n",
    "The precision for class 0 is 0.89, which means that out of all the predicted negative reviews, 89% of them were actually negative. The recall for class 0 is 0.88, which means that out of all the actual negative reviews, 88% of them were correctly classified as negative.\n",
    "\n",
    "The precision for class 1 is 0.88, which means that out of all the predicted positive reviews, 88% of them were actually positive. The recall for class 1 is 0.89, which means that out of all the actual positive reviews, 89% of them were correctly classified as positive.\n",
    "\n",
    "The F1-score is a harmonic mean of precision and recall. For both classes, the F1-score is 0.88. This indicates that the model is performing well on both classes.\n",
    "\n",
    "The support for class 0 is 4961, which means that there are 4961 negative reviews in the test data. The support for class 1 is 5039, which means that there are 5039 positive reviews in the test data. The overall support for the test data is 10000, which is the sum of the supports for both classes.\n"
   ]
  },
  {
   "attachments": {},
   "cell_type": "markdown",
   "metadata": {},
   "source": [
    "# Part-3.2: Algorithm 2 (Naive Bayes)"
   ]
  },
  {
   "attachments": {},
   "cell_type": "markdown",
   "metadata": {},
   "source": [
    "Create a Naive Bayes model and fit it on the training data"
   ]
  },
  {
   "cell_type": "code",
   "execution_count": 361,
   "metadata": {},
   "outputs": [
    {
     "data": {
      "text/html": [
       "<style>#sk-container-id-25 {color: black;background-color: white;}#sk-container-id-25 pre{padding: 0;}#sk-container-id-25 div.sk-toggleable {background-color: white;}#sk-container-id-25 label.sk-toggleable__label {cursor: pointer;display: block;width: 100%;margin-bottom: 0;padding: 0.3em;box-sizing: border-box;text-align: center;}#sk-container-id-25 label.sk-toggleable__label-arrow:before {content: \"▸\";float: left;margin-right: 0.25em;color: #696969;}#sk-container-id-25 label.sk-toggleable__label-arrow:hover:before {color: black;}#sk-container-id-25 div.sk-estimator:hover label.sk-toggleable__label-arrow:before {color: black;}#sk-container-id-25 div.sk-toggleable__content {max-height: 0;max-width: 0;overflow: hidden;text-align: left;background-color: #f0f8ff;}#sk-container-id-25 div.sk-toggleable__content pre {margin: 0.2em;color: black;border-radius: 0.25em;background-color: #f0f8ff;}#sk-container-id-25 input.sk-toggleable__control:checked~div.sk-toggleable__content {max-height: 200px;max-width: 100%;overflow: auto;}#sk-container-id-25 input.sk-toggleable__control:checked~label.sk-toggleable__label-arrow:before {content: \"▾\";}#sk-container-id-25 div.sk-estimator input.sk-toggleable__control:checked~label.sk-toggleable__label {background-color: #d4ebff;}#sk-container-id-25 div.sk-label input.sk-toggleable__control:checked~label.sk-toggleable__label {background-color: #d4ebff;}#sk-container-id-25 input.sk-hidden--visually {border: 0;clip: rect(1px 1px 1px 1px);clip: rect(1px, 1px, 1px, 1px);height: 1px;margin: -1px;overflow: hidden;padding: 0;position: absolute;width: 1px;}#sk-container-id-25 div.sk-estimator {font-family: monospace;background-color: #f0f8ff;border: 1px dotted black;border-radius: 0.25em;box-sizing: border-box;margin-bottom: 0.5em;}#sk-container-id-25 div.sk-estimator:hover {background-color: #d4ebff;}#sk-container-id-25 div.sk-parallel-item::after {content: \"\";width: 100%;border-bottom: 1px solid gray;flex-grow: 1;}#sk-container-id-25 div.sk-label:hover label.sk-toggleable__label {background-color: #d4ebff;}#sk-container-id-25 div.sk-serial::before {content: \"\";position: absolute;border-left: 1px solid gray;box-sizing: border-box;top: 0;bottom: 0;left: 50%;z-index: 0;}#sk-container-id-25 div.sk-serial {display: flex;flex-direction: column;align-items: center;background-color: white;padding-right: 0.2em;padding-left: 0.2em;position: relative;}#sk-container-id-25 div.sk-item {position: relative;z-index: 1;}#sk-container-id-25 div.sk-parallel {display: flex;align-items: stretch;justify-content: center;background-color: white;position: relative;}#sk-container-id-25 div.sk-item::before, #sk-container-id-25 div.sk-parallel-item::before {content: \"\";position: absolute;border-left: 1px solid gray;box-sizing: border-box;top: 0;bottom: 0;left: 50%;z-index: -1;}#sk-container-id-25 div.sk-parallel-item {display: flex;flex-direction: column;z-index: 1;position: relative;background-color: white;}#sk-container-id-25 div.sk-parallel-item:first-child::after {align-self: flex-end;width: 50%;}#sk-container-id-25 div.sk-parallel-item:last-child::after {align-self: flex-start;width: 50%;}#sk-container-id-25 div.sk-parallel-item:only-child::after {width: 0;}#sk-container-id-25 div.sk-dashed-wrapped {border: 1px dashed gray;margin: 0 0.4em 0.5em 0.4em;box-sizing: border-box;padding-bottom: 0.4em;background-color: white;}#sk-container-id-25 div.sk-label label {font-family: monospace;font-weight: bold;display: inline-block;line-height: 1.2em;}#sk-container-id-25 div.sk-label-container {text-align: center;}#sk-container-id-25 div.sk-container {/* jupyter's `normalize.less` sets `[hidden] { display: none; }` but bootstrap.min.css set `[hidden] { display: none !important; }` so we also need the `!important` here to be able to override the default hidden behavior on the sphinx rendered scikit-learn.org. See: https://github.com/scikit-learn/scikit-learn/issues/21755 */display: inline-block !important;position: relative;}#sk-container-id-25 div.sk-text-repr-fallback {display: none;}</style><div id=\"sk-container-id-25\" class=\"sk-top-container\"><div class=\"sk-text-repr-fallback\"><pre>MultinomialNB()</pre><b>In a Jupyter environment, please rerun this cell to show the HTML representation or trust the notebook. <br />On GitHub, the HTML representation is unable to render, please try loading this page with nbviewer.org.</b></div><div class=\"sk-container\" hidden><div class=\"sk-item\"><div class=\"sk-estimator sk-toggleable\"><input class=\"sk-toggleable__control sk-hidden--visually\" id=\"sk-estimator-id-25\" type=\"checkbox\" checked><label for=\"sk-estimator-id-25\" class=\"sk-toggleable__label sk-toggleable__label-arrow\">MultinomialNB</label><div class=\"sk-toggleable__content\"><pre>MultinomialNB()</pre></div></div></div></div></div>"
      ],
      "text/plain": [
       "MultinomialNB()"
      ]
     },
     "execution_count": 361,
     "metadata": {},
     "output_type": "execute_result"
    }
   ],
   "source": [
    "nb_model = MultinomialNB()\n",
    "nb_model.fit(X_train, y_train)"
   ]
  },
  {
   "cell_type": "code",
   "execution_count": 362,
   "metadata": {},
   "outputs": [
    {
     "name": "stdout",
     "output_type": "stream",
     "text": [
      "Accuracy of Naive Bayes classifier on test set: 0.86\n"
     ]
    }
   ],
   "source": [
    "# evaluate the model on the test data\n",
    "nb_model.score(X_test, y_test)\n",
    "print('Accuracy of Naive Bayes classifier on test set: {:.2f}'.format(nb_model.score(X_test, y_test)))"
   ]
  },
  {
   "attachments": {},
   "cell_type": "markdown",
   "metadata": {},
   "source": [
    "Result analysis:\n",
    "\n",
    "Our Naive Bayes model achieves an accuracy of around 86% on the testing data."
   ]
  },
  {
   "cell_type": "code",
   "execution_count": 363,
   "metadata": {},
   "outputs": [],
   "source": [
    "# get the predictions for the test data\n",
    "y_pred = nb_model.predict(X_test)"
   ]
  },
  {
   "cell_type": "code",
   "execution_count": 364,
   "metadata": {},
   "outputs": [],
   "source": [
    "# test samples that were incorrectly classified\n",
    "test_sample = X_test[y_pred != y_test]"
   ]
  },
  {
   "cell_type": "code",
   "execution_count": 365,
   "metadata": {},
   "outputs": [],
   "source": [
    "# predicted labels for the test samples that were incorrectly classified\n",
    "predicted_labels = y_pred[y_pred != y_test]"
   ]
  },
  {
   "cell_type": "code",
   "execution_count": 366,
   "metadata": {},
   "outputs": [],
   "source": [
    "# true labels for the test samples that were incorrectly classified\n",
    "true_labels = y_test[y_pred != y_test]"
   ]
  },
  {
   "cell_type": "code",
   "execution_count": 367,
   "metadata": {},
   "outputs": [
    {
     "name": "stdout",
     "output_type": "stream",
     "text": [
      "Test sample 1 (true label: 1): \n",
      "  (0, 57407)\t1\n",
      "  (0, 48334)\t1\n",
      "  (0, 30033)\t1\n",
      "  (0, 11989)\t8\n",
      "  (0, 90149)\t1\n",
      "  (0, 31709)\t1\n",
      "  (0, 22908)\t1\n",
      "  (0, 78290)\t1\n",
      "  (0, 20547)\t1\n",
      "  (0, 97942)\t1\n",
      "  (0, 38194)\t1\n",
      "  (0, 52288)\t1\n",
      "  (0, 90676)\t3\n",
      "  (0, 79821)\t1\n",
      "  (0, 52509)\t2\n",
      "  (0, 73161)\t1\n",
      "  (0, 68876)\t1\n",
      "  (0, 96113)\t1\n",
      "  (0, 8439)\t1\n",
      "  (0, 86906)\t1\n",
      "  (0, 37834)\t2\n",
      "  (0, 52602)\t4\n",
      "  (0, 66940)\t3\n",
      "  (0, 24957)\t1\n",
      "  (0, 88548)\t1\n",
      "  :\t:\n",
      "  (0, 13057)\t2\n",
      "  (0, 33839)\t1\n",
      "  (0, 66326)\t1\n",
      "  (0, 3732)\t1\n",
      "  (0, 26102)\t1\n",
      "  (0, 77679)\t1\n",
      "  (0, 4946)\t1\n",
      "  (0, 41313)\t2\n",
      "  (0, 20461)\t1\n",
      "  (0, 59337)\t2\n",
      "  (0, 99021)\t1\n",
      "  (0, 57183)\t1\n",
      "  (0, 44012)\t1\n",
      "  (0, 43458)\t1\n",
      "  (0, 19685)\t1\n",
      "  (0, 33544)\t1\n",
      "  (0, 33342)\t2\n",
      "  (0, 57573)\t1\n",
      "  (0, 73360)\t1\n",
      "  (0, 93224)\t1\n",
      "  (0, 71551)\t1\n",
      "  (0, 49281)\t2\n",
      "  (0, 45277)\t1\n",
      "  (0, 45274)\t1\n",
      "  (0, 1614)\t1\n",
      "\n",
      "Predicted label: 0\n",
      "\n",
      "Test sample 2 (true label: 1): \n",
      "  (0, 11989)\t4\n",
      "  (0, 78290)\t1\n",
      "  (0, 99920)\t1\n",
      "  (0, 68563)\t1\n",
      "  (0, 45975)\t1\n",
      "  (0, 60055)\t4\n",
      "  (0, 9700)\t1\n",
      "  (0, 2321)\t1\n",
      "  (0, 49391)\t1\n",
      "  (0, 67057)\t1\n",
      "  (0, 18664)\t1\n",
      "  (0, 53442)\t1\n",
      "  (0, 68532)\t1\n",
      "  (0, 62775)\t1\n",
      "  (0, 100623)\t1\n",
      "  (0, 53437)\t1\n",
      "  (0, 26984)\t1\n",
      "  (0, 15964)\t1\n",
      "  (0, 41379)\t1\n",
      "  (0, 53596)\t1\n",
      "  (0, 24292)\t1\n",
      "  (0, 61578)\t1\n",
      "  (0, 15657)\t1\n",
      "  (0, 43926)\t1\n",
      "  (0, 70047)\t1\n",
      "  (0, 51788)\t1\n",
      "  (0, 38576)\t1\n",
      "  (0, 42632)\t1\n",
      "  (0, 20327)\t2\n",
      "  (0, 75311)\t1\n",
      "  (0, 98619)\t2\n",
      "  (0, 73098)\t1\n",
      "  (0, 74506)\t1\n",
      "  (0, 17454)\t1\n",
      "  (0, 38476)\t1\n",
      "  (0, 70271)\t1\n",
      "  (0, 38217)\t1\n",
      "  (0, 79001)\t1\n",
      "  (0, 46244)\t1\n",
      "\n",
      "Predicted label: 0\n",
      "\n",
      "Test sample 3 (true label: 1): \n",
      "  (0, 48334)\t1\n",
      "  (0, 11989)\t2\n",
      "  (0, 78541)\t1\n",
      "  (0, 80196)\t2\n",
      "  (0, 90676)\t1\n",
      "  (0, 98056)\t1\n",
      "  (0, 14638)\t2\n",
      "  (0, 60055)\t1\n",
      "  (0, 81771)\t1\n",
      "  (0, 59273)\t1\n",
      "  (0, 14132)\t1\n",
      "  (0, 51411)\t1\n",
      "  (0, 5312)\t2\n",
      "  (0, 58454)\t1\n",
      "  (0, 96417)\t1\n",
      "  (0, 41025)\t1\n",
      "  (0, 64399)\t1\n",
      "  (0, 39246)\t2\n",
      "  (0, 18595)\t1\n",
      "  (0, 31328)\t1\n",
      "  (0, 3008)\t1\n",
      "  (0, 41297)\t1\n",
      "  (0, 60596)\t1\n",
      "  (0, 76428)\t1\n",
      "  (0, 70566)\t1\n",
      "  :\t:\n",
      "  (0, 22933)\t1\n",
      "  (0, 65620)\t2\n",
      "  (0, 83405)\t1\n",
      "  (0, 70741)\t1\n",
      "  (0, 73115)\t2\n",
      "  (0, 61334)\t1\n",
      "  (0, 16012)\t1\n",
      "  (0, 17745)\t1\n",
      "  (0, 59309)\t1\n",
      "  (0, 75022)\t1\n",
      "  (0, 78155)\t1\n",
      "  (0, 90723)\t1\n",
      "  (0, 61071)\t1\n",
      "  (0, 40057)\t1\n",
      "  (0, 2845)\t1\n",
      "  (0, 4538)\t1\n",
      "  (0, 87994)\t1\n",
      "  (0, 23575)\t1\n",
      "  (0, 30985)\t1\n",
      "  (0, 43873)\t1\n",
      "  (0, 82857)\t1\n",
      "  (0, 50423)\t2\n",
      "  (0, 38866)\t1\n",
      "  (0, 74214)\t1\n",
      "  (0, 52333)\t1\n",
      "\n",
      "Predicted label: 0\n",
      "\n",
      "Test sample 4 (true label: 1): \n",
      "  (0, 97949)\t1\n",
      "  (0, 48334)\t3\n",
      "  (0, 11989)\t8\n",
      "  (0, 27374)\t2\n",
      "  (0, 7192)\t1\n",
      "  (0, 78321)\t1\n",
      "  (0, 31754)\t1\n",
      "  (0, 97942)\t2\n",
      "  (0, 33173)\t1\n",
      "  (0, 31555)\t1\n",
      "  (0, 57834)\t2\n",
      "  (0, 92668)\t1\n",
      "  (0, 73161)\t2\n",
      "  (0, 90158)\t1\n",
      "  (0, 90283)\t1\n",
      "  (0, 96113)\t2\n",
      "  (0, 60055)\t3\n",
      "  (0, 37834)\t3\n",
      "  (0, 54907)\t1\n",
      "  (0, 33134)\t2\n",
      "  (0, 52602)\t3\n",
      "  (0, 97009)\t1\n",
      "  (0, 66940)\t5\n",
      "  (0, 24957)\t1\n",
      "  (0, 25281)\t1\n",
      "  :\t:\n",
      "  (0, 74399)\t1\n",
      "  (0, 76106)\t1\n",
      "  (0, 23776)\t1\n",
      "  (0, 48937)\t1\n",
      "  (0, 26661)\t1\n",
      "  (0, 82941)\t1\n",
      "  (0, 71218)\t1\n",
      "  (0, 10177)\t1\n",
      "  (0, 87441)\t1\n",
      "  (0, 58897)\t11\n",
      "  (0, 42198)\t1\n",
      "  (0, 31009)\t1\n",
      "  (0, 27733)\t1\n",
      "  (0, 60968)\t1\n",
      "  (0, 81504)\t1\n",
      "  (0, 98847)\t1\n",
      "  (0, 99503)\t1\n",
      "  (0, 77513)\t1\n",
      "  (0, 65005)\t1\n",
      "  (0, 67351)\t2\n",
      "  (0, 19523)\t1\n",
      "  (0, 59549)\t2\n",
      "  (0, 9703)\t1\n",
      "  (0, 28584)\t1\n",
      "  (0, 72724)\t1\n",
      "\n",
      "Predicted label: 0\n",
      "\n",
      "Test sample 5 (true label: 1): \n",
      "  (0, 11989)\t6\n",
      "  (0, 32122)\t1\n",
      "  (0, 81257)\t1\n",
      "  (0, 52995)\t1\n",
      "  (0, 57834)\t1\n",
      "  (0, 38631)\t2\n",
      "  (0, 49500)\t1\n",
      "  (0, 33134)\t2\n",
      "  (0, 25281)\t1\n",
      "  (0, 36918)\t1\n",
      "  (0, 2321)\t1\n",
      "  (0, 85982)\t1\n",
      "  (0, 49426)\t2\n",
      "  (0, 43497)\t1\n",
      "  (0, 7954)\t1\n",
      "  (0, 10301)\t1\n",
      "  (0, 12790)\t1\n",
      "  (0, 28079)\t1\n",
      "  (0, 26515)\t1\n",
      "  (0, 82240)\t1\n",
      "  (0, 58450)\t1\n",
      "  (0, 78254)\t1\n",
      "  (0, 27889)\t1\n",
      "  (0, 93001)\t1\n",
      "  (0, 26647)\t1\n",
      "  :\t:\n",
      "  (0, 62744)\t1\n",
      "  (0, 100046)\t1\n",
      "  (0, 86603)\t1\n",
      "  (0, 96741)\t1\n",
      "  (0, 45820)\t1\n",
      "  (0, 88131)\t1\n",
      "  (0, 68609)\t1\n",
      "  (0, 76556)\t1\n",
      "  (0, 48228)\t2\n",
      "  (0, 10177)\t1\n",
      "  (0, 91081)\t1\n",
      "  (0, 49733)\t1\n",
      "  (0, 42567)\t1\n",
      "  (0, 90729)\t1\n",
      "  (0, 26949)\t1\n",
      "  (0, 48085)\t1\n",
      "  (0, 83473)\t1\n",
      "  (0, 28274)\t1\n",
      "  (0, 93249)\t1\n",
      "  (0, 27531)\t1\n",
      "  (0, 3504)\t1\n",
      "  (0, 53559)\t1\n",
      "  (0, 72184)\t1\n",
      "  (0, 52237)\t1\n",
      "  (0, 88854)\t1\n",
      "\n",
      "Predicted label: 0\n",
      "\n"
     ]
    }
   ],
   "source": [
    "# print the example test samples and their predicted/true labels\n",
    "for i in range(5):\n",
    "    print('Test sample {} (true label: {}): \\n{}\\n'.format(i+1, true_labels.iloc[i], test_sample[i]))\n",
    "    print('Predicted label: {}\\n'.format(predicted_labels[i]))"
   ]
  },
  {
   "cell_type": "code",
   "execution_count": 368,
   "metadata": {},
   "outputs": [
    {
     "data": {
      "text/plain": [
       "array([[4344,  617],\n",
       "       [ 817, 4222]])"
      ]
     },
     "execution_count": 368,
     "metadata": {},
     "output_type": "execute_result"
    }
   ],
   "source": [
    "# create a confusion matrix\n",
    "confusion_matrix(y_test, y_pred)"
   ]
  },
  {
   "cell_type": "code",
   "execution_count": 369,
   "metadata": {},
   "outputs": [
    {
     "data": {
      "image/png": "[encoded data removed]",
      "text/plain": [
       "<Figure size 640x480 with 2 Axes>"
      ]
     },
     "metadata": {},
     "output_type": "display_data"
    }
   ],
   "source": [
    "# create a heatmap of the confusion matrix\n",
    "sns.heatmap(confusion_matrix(y_test, y_pred), annot=True, fmt='d', cmap='Blues')\n",
    "plt.xlabel('Predicted')\n",
    "plt.ylabel('Actual')\n",
    "plt.show()"
   ]
  },
  {
   "cell_type": "code",
   "execution_count": 370,
   "metadata": {},
   "outputs": [
    {
     "name": "stdout",
     "output_type": "stream",
     "text": [
      "              precision    recall  f1-score   support\n",
      "\n",
      "           0       0.84      0.88      0.86      4961\n",
      "           1       0.87      0.84      0.85      5039\n",
      "\n",
      "    accuracy                           0.86     10000\n",
      "   macro avg       0.86      0.86      0.86     10000\n",
      "weighted avg       0.86      0.86      0.86     10000\n",
      "\n"
     ]
    }
   ],
   "source": [
    "\n",
    "# print the classification report\n",
    "print(classification_report(y_test, y_pred))"
   ]
  },
  {
   "attachments": {},
   "cell_type": "markdown",
   "metadata": {},
   "source": [
    "Interpret the results: \n",
    "\n",
    "This looks like the classification report for a binary classification problem with two classes, 0 and 1. The precision, recall, and f1-score for each class are reported, as well as the support for each class, which is the number of samples in the test set that belong to that class.\n",
    "\n",
    "In this case, the class 0 has a precision of 0.84, recall of 0.88, and f1-score of 0.86, while the class 1 has a precision of 0.87, recall of 0.84, and f1-score of 0.85.\n",
    "\n",
    "The accuracy of the model on the test set is reported to be 0.86, which means that the model correctly classified 86% of the samples in the test set.\n",
    "\n",
    "The macro average of the precision, recall, and f1-score is also reported, which is the average of these metrics across both classes. The weighted average is also reported, which takes into account the imbalance between the two classes in the test set.\n",
    "\n",
    "Overall, the model appears to perform reasonably well, but it may be better at classifying one class over the other."
   ]
  },
  {
   "attachments": {},
   "cell_type": "markdown",
   "metadata": {},
   "source": [
    "# Part-3.3: Algorithm 3 (Support Vector Machines SVM)"
   ]
  },
  {
   "attachments": {},
   "cell_type": "markdown",
   "metadata": {},
   "source": [
    "Using Support Vector Machines as our classification model"
   ]
  },
  {
   "cell_type": "code",
   "execution_count": 371,
   "metadata": {},
   "outputs": [],
   "source": [
    "# create a linear SVM model \n",
    "svm_model = LinearSVC(max_iter=6000)"
   ]
  },
  {
   "cell_type": "code",
   "execution_count": 372,
   "metadata": {},
   "outputs": [
    {
     "data": {
      "text/html": [
       "<style>#sk-container-id-26 {color: black;background-color: white;}#sk-container-id-26 pre{padding: 0;}#sk-container-id-26 div.sk-toggleable {background-color: white;}#sk-container-id-26 label.sk-toggleable__label {cursor: pointer;display: block;width: 100%;margin-bottom: 0;padding: 0.3em;box-sizing: border-box;text-align: center;}#sk-container-id-26 label.sk-toggleable__label-arrow:before {content: \"▸\";float: left;margin-right: 0.25em;color: #696969;}#sk-container-id-26 label.sk-toggleable__label-arrow:hover:before {color: black;}#sk-container-id-26 div.sk-estimator:hover label.sk-toggleable__label-arrow:before {color: black;}#sk-container-id-26 div.sk-toggleable__content {max-height: 0;max-width: 0;overflow: hidden;text-align: left;background-color: #f0f8ff;}#sk-container-id-26 div.sk-toggleable__content pre {margin: 0.2em;color: black;border-radius: 0.25em;background-color: #f0f8ff;}#sk-container-id-26 input.sk-toggleable__control:checked~div.sk-toggleable__content {max-height: 200px;max-width: 100%;overflow: auto;}#sk-container-id-26 input.sk-toggleable__control:checked~label.sk-toggleable__label-arrow:before {content: \"▾\";}#sk-container-id-26 div.sk-estimator input.sk-toggleable__control:checked~label.sk-toggleable__label {background-color: #d4ebff;}#sk-container-id-26 div.sk-label input.sk-toggleable__control:checked~label.sk-toggleable__label {background-color: #d4ebff;}#sk-container-id-26 input.sk-hidden--visually {border: 0;clip: rect(1px 1px 1px 1px);clip: rect(1px, 1px, 1px, 1px);height: 1px;margin: -1px;overflow: hidden;padding: 0;position: absolute;width: 1px;}#sk-container-id-26 div.sk-estimator {font-family: monospace;background-color: #f0f8ff;border: 1px dotted black;border-radius: 0.25em;box-sizing: border-box;margin-bottom: 0.5em;}#sk-container-id-26 div.sk-estimator:hover {background-color: #d4ebff;}#sk-container-id-26 div.sk-parallel-item::after {content: \"\";width: 100%;border-bottom: 1px solid gray;flex-grow: 1;}#sk-container-id-26 div.sk-label:hover label.sk-toggleable__label {background-color: #d4ebff;}#sk-container-id-26 div.sk-serial::before {content: \"\";position: absolute;border-left: 1px solid gray;box-sizing: border-box;top: 0;bottom: 0;left: 50%;z-index: 0;}#sk-container-id-26 div.sk-serial {display: flex;flex-direction: column;align-items: center;background-color: white;padding-right: 0.2em;padding-left: 0.2em;position: relative;}#sk-container-id-26 div.sk-item {position: relative;z-index: 1;}#sk-container-id-26 div.sk-parallel {display: flex;align-items: stretch;justify-content: center;background-color: white;position: relative;}#sk-container-id-26 div.sk-item::before, #sk-container-id-26 div.sk-parallel-item::before {content: \"\";position: absolute;border-left: 1px solid gray;box-sizing: border-box;top: 0;bottom: 0;left: 50%;z-index: -1;}#sk-container-id-26 div.sk-parallel-item {display: flex;flex-direction: column;z-index: 1;position: relative;background-color: white;}#sk-container-id-26 div.sk-parallel-item:first-child::after {align-self: flex-end;width: 50%;}#sk-container-id-26 div.sk-parallel-item:last-child::after {align-self: flex-start;width: 50%;}#sk-container-id-26 div.sk-parallel-item:only-child::after {width: 0;}#sk-container-id-26 div.sk-dashed-wrapped {border: 1px dashed gray;margin: 0 0.4em 0.5em 0.4em;box-sizing: border-box;padding-bottom: 0.4em;background-color: white;}#sk-container-id-26 div.sk-label label {font-family: monospace;font-weight: bold;display: inline-block;line-height: 1.2em;}#sk-container-id-26 div.sk-label-container {text-align: center;}#sk-container-id-26 div.sk-container {/* jupyter's `normalize.less` sets `[hidden] { display: none; }` but bootstrap.min.css set `[hidden] { display: none !important; }` so we also need the `!important` here to be able to override the default hidden behavior on the sphinx rendered scikit-learn.org. See: https://github.com/scikit-learn/scikit-learn/issues/21755 */display: inline-block !important;position: relative;}#sk-container-id-26 div.sk-text-repr-fallback {display: none;}</style><div id=\"sk-container-id-26\" class=\"sk-top-container\"><div class=\"sk-text-repr-fallback\"><pre>LinearSVC(max_iter=6000)</pre><b>In a Jupyter environment, please rerun this cell to show the HTML representation or trust the notebook. <br />On GitHub, the HTML representation is unable to render, please try loading this page with nbviewer.org.</b></div><div class=\"sk-container\" hidden><div class=\"sk-item\"><div class=\"sk-estimator sk-toggleable\"><input class=\"sk-toggleable__control sk-hidden--visually\" id=\"sk-estimator-id-26\" type=\"checkbox\" checked><label for=\"sk-estimator-id-26\" class=\"sk-toggleable__label sk-toggleable__label-arrow\">LinearSVC</label><div class=\"sk-toggleable__content\"><pre>LinearSVC(max_iter=6000)</pre></div></div></div></div></div>"
      ],
      "text/plain": [
       "LinearSVC(max_iter=6000)"
      ]
     },
     "execution_count": 372,
     "metadata": {},
     "output_type": "execute_result"
    }
   ],
   "source": [
    "# fit the model to the training data\n",
    "svm_model.fit(X_train, y_train)"
   ]
  },
  {
   "cell_type": "code",
   "execution_count": 373,
   "metadata": {},
   "outputs": [
    {
     "name": "stdout",
     "output_type": "stream",
     "text": [
      "Accuracy of SVM classifier on test set: 0.86\n"
     ]
    }
   ],
   "source": [
    "# evaluate the model on the test data\n",
    "svm_model.score(X_test, y_test)\n",
    "print('Accuracy of SVM classifier on test set: {:.2f}'.format(svm_model.score(X_test, y_test)))"
   ]
  },
  {
   "attachments": {},
   "cell_type": "markdown",
   "metadata": {},
   "source": [
    "Result analysis:\n",
    "\n",
    "Our SVM model achieves an accuracy of around 86% on the testing data. "
   ]
  },
  {
   "cell_type": "code",
   "execution_count": 374,
   "metadata": {},
   "outputs": [],
   "source": [
    "# Get some example test samples\n",
    "y_pred = svm_model.predict(X_test)\n",
    "test_sample = X_test[y_pred != y_test]"
   ]
  },
  {
   "cell_type": "code",
   "execution_count": 375,
   "metadata": {},
   "outputs": [],
   "source": [
    "# predicted labels for the test samples that were incorrectly classified\n",
    "predicted_labels = y_pred[y_pred != y_test]\n",
    "true_labels = y_test[y_pred != y_test]"
   ]
  },
  {
   "cell_type": "code",
   "execution_count": 376,
   "metadata": {},
   "outputs": [
    {
     "name": "stdout",
     "output_type": "stream",
     "text": [
      "Test sample 1 (true label: 1): \n",
      "  (0, 48334)\t2\n",
      "  (0, 54821)\t2\n",
      "  (0, 90676)\t1\n",
      "  (0, 73161)\t1\n",
      "  (0, 39191)\t1\n",
      "  (0, 56134)\t3\n",
      "  (0, 45975)\t2\n",
      "  (0, 63745)\t1\n",
      "  (0, 52602)\t1\n",
      "  (0, 57)\t1\n",
      "  (0, 53434)\t2\n",
      "  (0, 99856)\t1\n",
      "  (0, 9984)\t1\n",
      "  (0, 9700)\t1\n",
      "  (0, 11670)\t1\n",
      "  (0, 90702)\t1\n",
      "  (0, 49391)\t1\n",
      "  (0, 43284)\t1\n",
      "  (0, 52606)\t1\n",
      "  (0, 24913)\t1\n",
      "  (0, 59406)\t1\n",
      "  (0, 91241)\t2\n",
      "  (0, 73213)\t1\n",
      "  (0, 55157)\t2\n",
      "  (0, 90883)\t1\n",
      "  :\t:\n",
      "  (0, 21905)\t1\n",
      "  (0, 56139)\t1\n",
      "  (0, 94110)\t1\n",
      "  (0, 100723)\t2\n",
      "  (0, 9995)\t1\n",
      "  (0, 85527)\t1\n",
      "  (0, 73032)\t1\n",
      "  (0, 100187)\t1\n",
      "  (0, 51599)\t2\n",
      "  (0, 46621)\t1\n",
      "  (0, 23315)\t1\n",
      "  (0, 12384)\t1\n",
      "  (0, 37971)\t1\n",
      "  (0, 26399)\t1\n",
      "  (0, 40607)\t1\n",
      "  (0, 24830)\t1\n",
      "  (0, 47172)\t1\n",
      "  (0, 87118)\t2\n",
      "  (0, 53927)\t3\n",
      "  (0, 53914)\t1\n",
      "  (0, 39467)\t1\n",
      "  (0, 88978)\t1\n",
      "  (0, 40985)\t1\n",
      "  (0, 11655)\t1\n",
      "  (0, 41463)\t1\n",
      "\n",
      "Predicted label: 0\n",
      "\n",
      "Test sample 2 (true label: 1): \n",
      "  (0, 57407)\t1\n",
      "  (0, 48334)\t1\n",
      "  (0, 30033)\t1\n",
      "  (0, 11989)\t8\n",
      "  (0, 90149)\t1\n",
      "  (0, 31709)\t1\n",
      "  (0, 22908)\t1\n",
      "  (0, 78290)\t1\n",
      "  (0, 20547)\t1\n",
      "  (0, 97942)\t1\n",
      "  (0, 38194)\t1\n",
      "  (0, 52288)\t1\n",
      "  (0, 90676)\t3\n",
      "  (0, 79821)\t1\n",
      "  (0, 52509)\t2\n",
      "  (0, 73161)\t1\n",
      "  (0, 68876)\t1\n",
      "  (0, 96113)\t1\n",
      "  (0, 8439)\t1\n",
      "  (0, 86906)\t1\n",
      "  (0, 37834)\t2\n",
      "  (0, 52602)\t4\n",
      "  (0, 66940)\t3\n",
      "  (0, 24957)\t1\n",
      "  (0, 88548)\t1\n",
      "  :\t:\n",
      "  (0, 13057)\t2\n",
      "  (0, 33839)\t1\n",
      "  (0, 66326)\t1\n",
      "  (0, 3732)\t1\n",
      "  (0, 26102)\t1\n",
      "  (0, 77679)\t1\n",
      "  (0, 4946)\t1\n",
      "  (0, 41313)\t2\n",
      "  (0, 20461)\t1\n",
      "  (0, 59337)\t2\n",
      "  (0, 99021)\t1\n",
      "  (0, 57183)\t1\n",
      "  (0, 44012)\t1\n",
      "  (0, 43458)\t1\n",
      "  (0, 19685)\t1\n",
      "  (0, 33544)\t1\n",
      "  (0, 33342)\t2\n",
      "  (0, 57573)\t1\n",
      "  (0, 73360)\t1\n",
      "  (0, 93224)\t1\n",
      "  (0, 71551)\t1\n",
      "  (0, 49281)\t2\n",
      "  (0, 45277)\t1\n",
      "  (0, 45274)\t1\n",
      "  (0, 1614)\t1\n",
      "\n",
      "Predicted label: 0\n",
      "\n",
      "Test sample 3 (true label: 0): \n",
      "  (0, 48334)\t2\n",
      "  (0, 30033)\t1\n",
      "  (0, 11989)\t8\n",
      "  (0, 90149)\t1\n",
      "  (0, 70247)\t1\n",
      "  (0, 67917)\t1\n",
      "  (0, 6796)\t1\n",
      "  (0, 38194)\t2\n",
      "  (0, 52995)\t2\n",
      "  (0, 79821)\t1\n",
      "  (0, 31555)\t1\n",
      "  (0, 16852)\t1\n",
      "  (0, 90158)\t1\n",
      "  (0, 12240)\t1\n",
      "  (0, 25359)\t1\n",
      "  (0, 45975)\t1\n",
      "  (0, 37834)\t1\n",
      "  (0, 52602)\t1\n",
      "  (0, 45742)\t1\n",
      "  (0, 50003)\t1\n",
      "  (0, 53434)\t1\n",
      "  (0, 9700)\t1\n",
      "  (0, 90702)\t2\n",
      "  (0, 90447)\t1\n",
      "  (0, 80021)\t2\n",
      "  :\t:\n",
      "  (0, 74601)\t1\n",
      "  (0, 86285)\t1\n",
      "  (0, 94835)\t1\n",
      "  (0, 96541)\t1\n",
      "  (0, 83903)\t1\n",
      "  (0, 2465)\t1\n",
      "  (0, 13898)\t1\n",
      "  (0, 19167)\t1\n",
      "  (0, 58359)\t1\n",
      "  (0, 9912)\t1\n",
      "  (0, 74606)\t1\n",
      "  (0, 96407)\t1\n",
      "  (0, 63321)\t1\n",
      "  (0, 88165)\t1\n",
      "  (0, 82549)\t1\n",
      "  (0, 99021)\t1\n",
      "  (0, 66395)\t1\n",
      "  (0, 15653)\t1\n",
      "  (0, 66393)\t1\n",
      "  (0, 84126)\t1\n",
      "  (0, 87384)\t2\n",
      "  (0, 51644)\t1\n",
      "  (0, 96527)\t1\n",
      "  (0, 12081)\t1\n",
      "  (0, 32775)\t2\n",
      "\n",
      "Predicted label: 1\n",
      "\n",
      "Test sample 4 (true label: 1): \n",
      "  (0, 93010)\t1\n",
      "  (0, 99920)\t2\n",
      "  (0, 43008)\t1\n",
      "  (0, 100551)\t1\n",
      "  (0, 60055)\t1\n",
      "  (0, 33134)\t1\n",
      "  (0, 53434)\t1\n",
      "  (0, 68768)\t1\n",
      "  (0, 6088)\t1\n",
      "  (0, 79944)\t1\n",
      "  (0, 79942)\t2\n",
      "  (0, 28422)\t1\n",
      "  (0, 5335)\t1\n",
      "  (0, 59218)\t1\n",
      "  (0, 64096)\t1\n",
      "  (0, 4801)\t1\n",
      "  (0, 36085)\t1\n",
      "  (0, 90198)\t1\n",
      "  (0, 40928)\t1\n",
      "  (0, 79537)\t1\n",
      "  (0, 3011)\t1\n",
      "  (0, 70821)\t1\n",
      "  (0, 23390)\t1\n",
      "  (0, 82576)\t1\n",
      "  (0, 76143)\t1\n",
      "  :\t:\n",
      "  (0, 29914)\t1\n",
      "  (0, 41935)\t2\n",
      "  (0, 63613)\t1\n",
      "  (0, 74372)\t1\n",
      "  (0, 47376)\t1\n",
      "  (0, 80906)\t1\n",
      "  (0, 41813)\t1\n",
      "  (0, 25164)\t1\n",
      "  (0, 7613)\t1\n",
      "  (0, 42211)\t1\n",
      "  (0, 43341)\t1\n",
      "  (0, 30024)\t1\n",
      "  (0, 94275)\t1\n",
      "  (0, 49411)\t1\n",
      "  (0, 97732)\t1\n",
      "  (0, 41289)\t1\n",
      "  (0, 52578)\t1\n",
      "  (0, 25719)\t1\n",
      "  (0, 85167)\t1\n",
      "  (0, 76136)\t2\n",
      "  (0, 62453)\t1\n",
      "  (0, 72098)\t1\n",
      "  (0, 27746)\t1\n",
      "  (0, 60627)\t1\n",
      "  (0, 54685)\t1\n",
      "\n",
      "Predicted label: 0\n",
      "\n",
      "Test sample 5 (true label: 1): \n",
      "  (0, 48334)\t1\n",
      "  (0, 11989)\t2\n",
      "  (0, 78541)\t1\n",
      "  (0, 80196)\t2\n",
      "  (0, 90676)\t1\n",
      "  (0, 98056)\t1\n",
      "  (0, 14638)\t2\n",
      "  (0, 60055)\t1\n",
      "  (0, 81771)\t1\n",
      "  (0, 59273)\t1\n",
      "  (0, 14132)\t1\n",
      "  (0, 51411)\t1\n",
      "  (0, 5312)\t2\n",
      "  (0, 58454)\t1\n",
      "  (0, 96417)\t1\n",
      "  (0, 41025)\t1\n",
      "  (0, 64399)\t1\n",
      "  (0, 39246)\t2\n",
      "  (0, 18595)\t1\n",
      "  (0, 31328)\t1\n",
      "  (0, 3008)\t1\n",
      "  (0, 41297)\t1\n",
      "  (0, 60596)\t1\n",
      "  (0, 76428)\t1\n",
      "  (0, 70566)\t1\n",
      "  :\t:\n",
      "  (0, 22933)\t1\n",
      "  (0, 65620)\t2\n",
      "  (0, 83405)\t1\n",
      "  (0, 70741)\t1\n",
      "  (0, 73115)\t2\n",
      "  (0, 61334)\t1\n",
      "  (0, 16012)\t1\n",
      "  (0, 17745)\t1\n",
      "  (0, 59309)\t1\n",
      "  (0, 75022)\t1\n",
      "  (0, 78155)\t1\n",
      "  (0, 90723)\t1\n",
      "  (0, 61071)\t1\n",
      "  (0, 40057)\t1\n",
      "  (0, 2845)\t1\n",
      "  (0, 4538)\t1\n",
      "  (0, 87994)\t1\n",
      "  (0, 23575)\t1\n",
      "  (0, 30985)\t1\n",
      "  (0, 43873)\t1\n",
      "  (0, 82857)\t1\n",
      "  (0, 50423)\t2\n",
      "  (0, 38866)\t1\n",
      "  (0, 74214)\t1\n",
      "  (0, 52333)\t1\n",
      "\n",
      "Predicted label: 0\n",
      "\n"
     ]
    }
   ],
   "source": [
    "# print the example test samples and their predicted/true labels\n",
    "for i in range(5):\n",
    "    print('Test sample {} (true label: {}): \\n{}\\n'.format(i+1, true_labels.iloc[i], test_sample[i]))\n",
    "    print('Predicted label: {}\\n'.format(predicted_labels[i]))"
   ]
  },
  {
   "cell_type": "code",
   "execution_count": 377,
   "metadata": {},
   "outputs": [
    {
     "data": {
      "text/plain": [
       "array([[4262,  699],\n",
       "       [ 680, 4359]])"
      ]
     },
     "execution_count": 377,
     "metadata": {},
     "output_type": "execute_result"
    }
   ],
   "source": [
    "# create a confusion matrix\n",
    "confusion_matrix(y_test, y_pred)\n"
   ]
  },
  {
   "cell_type": "code",
   "execution_count": 380,
   "metadata": {},
   "outputs": [
    {
     "data": {
      "image/png": "[encoded data removed]",
      "text/plain": [
       "<Figure size 640x480 with 2 Axes>"
      ]
     },
     "metadata": {},
     "output_type": "display_data"
    }
   ],
   "source": [
    "# create a heatmap of the confusion matrix\n",
    "sns.heatmap(confusion_matrix(y_test, y_pred), annot=True, fmt='d', cmap='Blues')\n",
    "plt.xlabel('Predicted')\n",
    "plt.ylabel('Actual')\n",
    "plt.show()"
   ]
  },
  {
   "cell_type": "code",
   "execution_count": 381,
   "metadata": {},
   "outputs": [
    {
     "name": "stdout",
     "output_type": "stream",
     "text": [
      "              precision    recall  f1-score   support\n",
      "\n",
      "           0       0.86      0.86      0.86      4961\n",
      "           1       0.86      0.87      0.86      5039\n",
      "\n",
      "    accuracy                           0.86     10000\n",
      "   macro avg       0.86      0.86      0.86     10000\n",
      "weighted avg       0.86      0.86      0.86     10000\n",
      "\n"
     ]
    }
   ],
   "source": [
    "# print the classification report\n",
    "print(classification_report(y_test, y_pred))"
   ]
  },
  {
   "attachments": {},
   "cell_type": "markdown",
   "metadata": {},
   "source": [
    "The evaluation metrics show that the model has an overall accuracy of 0.86, which means that it correctly classifies 86% of the reviews in the test data. The precision for both positive and negative reviews is 0.86, which means that when the model predicts a review as positive or negative, it is correct 86% of the time. The recall for positive and negative reviews is also similar, indicating that the model is able to correctly identify both positive and negative reviews with similar accuracy.\n",
    "\n",
    "The F1-score for both positive and negative reviews is 0.86, which is the harmonic mean of precision and recall. This metric is useful for imbalanced datasets, where the number of positive and negative examples is not equal. In this case, the F1-score is a better metric than accuracy because it takes into account both precision and recall, which are more important for predicting rare events.\n",
    "\n",
    "Overall, these results suggest that the model is performing well on the task of classifying movie reviews as positive or negative. However, there may be some room for improvement in order to increase the accuracy and overall performance of the model."
   ]
  },
  {
   "attachments": {},
   "cell_type": "markdown",
   "metadata": {},
   "source": [
    "# Part-4: Model Comparison and Conclusion"
   ]
  },
  {
   "attachments": {},
   "cell_type": "markdown",
   "metadata": {},
   "source": [
    "# Model Explaination and Evaluation"
   ]
  },
  {
   "attachments": {},
   "cell_type": "markdown",
   "metadata": {},
   "source": [
    "\n",
    "We use 80% of the data for training and 20% for testing. We train the models on the training data and evaluate them on the test data.\n",
    "\n",
    "We use the accuracy score to evaluate the models. The accuracy score is the number of correct predictions divided by the total number of predictions.\n",
    "\n",
    "The accuracy score for the logistic regression model is 0.88. \n",
    "\n",
    "The accuracy score for the naive bayes model is 0.86.\n",
    "\n",
    "The accuracy score for the support vector machines model is 0.86.\n",
    "\n",
    "We can also use the classification report to evaluate the models. The classification report shows the precision, recall, and F1 score for each class.\n",
    "\n",
    "The precision is the number of true positives divided by the total number of positive predictions. The recall is the number of true positives divided by the total number of samples in the class. The F1 score is the harmonic mean of the precision and recall.\n",
    "\n",
    "The precision, recall, and F1 score for the positive class are higher for the logistic regression model than for the naive bayes and support vector machines models. The precision, recall, and F1 score for the negative class are higher for the naive bayes model than for the logistic regression and support vector machines models.\n",
    "\n",
    "We can also use the confusion matrix to evaluate the models. The confusion matrix shows the number of true positives, false positives, true negatives, and false negatives for each class.\n",
    "\n",
    "The confusion matrix for the logistic regression model shows that there are 4480 true positives, 559 false positives, 4350 true negatives, and 611 false negatives. \n",
    "\n",
    "The confusion matrix for the naive bayes model shows that there are 4222 true positives, 817 false positives, 4344 true negatives, and 617 false negatives. \n",
    "\n",
    "The confusion matrix for the support vector machines model shows that there are 4359 true positives, 680 false positives, 4262 true negatives, and 699 false negatives.\n",
    "\n",
    "In conclusion, the logistic regression model is the best model for this dataset. The logistic regression model has the highest accuracy score, the highest precision, recall, and F1 score for the positive class, and the highest number of true positives, true negatives, and false negatives. \n"
   ]
  },
  {
   "attachments": {},
   "cell_type": "markdown",
   "metadata": {},
   "source": [
    "# Error Analysis"
   ]
  },
  {
   "attachments": {},
   "cell_type": "markdown",
   "metadata": {},
   "source": [
    "To get the predicted labels for the test samples that were incorrectly classified as errors, I use the code: \n",
    "    \n",
    "    predicted_labels = y_pred[y_pred != y_test]\n",
    "    true_labels = y_test[y_pred != y_test]\n",
    "\n",
    "Here, y_pred is the predicted labels for the test set, and y_test is the true labels for the test set. By comparing y_pred and y_test element-wise, we can identify the indices where the two arrays differ, which correspond to the misclassified samples. The above code selects only the predicted and true labels for the misclassified samples.\n",
    "\n",
    "\n",
    "\n",
    "When I was creating a logistic regression model, I had to set the maximum number of iterations to 1000 or else it gave me an error. \n",
    "It happened again when I was creating the linear SVM model. But maximum number of iterations has to be even bigger than 1000 or else it gave an error. Therefore, I set it to 6000.\n",
    "\n",
    "The maximum number of iterations is a parameter in logistic regression that controls the maximum number of iterations the optimization algorithm will perform before stopping. If the algorithm has not converged after the maximum number of iterations, it stops and returns the current solution. In our case, the optimization algorithm was not able to converge within the default maximum number of iterations, which is 100. By setting the maximum number of iterations to 1000, we allowed the optimization algorithm to perform more iterations, which may have helped it to converge to a solution. It's important to note that setting the maximum number of iterations to a very high number can cause the optimization algorithm to take a long time to converge or even to never converge, so it's important to choose a reasonable value based on the size of our dataset and the complexity of our model.\n"
   ]
  },
  {
   "attachments": {},
   "cell_type": "markdown",
   "metadata": {},
   "source": [
    "# Conclusion"
   ]
  },
  {
   "attachments": {},
   "cell_type": "markdown",
   "metadata": {},
   "source": [
    "\n",
    "We can use either the logistic regression model or the SVM model to classify the text data. The logistic regression model has a slightly better performance than the SVM model. However, the SVM model is faster to train and to make predictions. Therefore, we can use the SVM model to classify the text data.\n",
    "\n",
    "Any model can be improved by using more advanced text processing techniques, such as word embeddings or deep learning models. We can also use ensemble methods or model stacking to combine the predictions of multiple models.\n",
    "\n",
    "\n",
    "The logistic regression model and the SVM model are suitable for text classification because they can capture the relationship between the features and the target variable. Therefore, the logistic regression model and the SVM model perform well on the text classification task.\n",
    "\n",
    "For human, we can use the word frequency to classify the text data. For example, if the text contains the word \"love\", then it is more likely to be a positive review. If the text contains the word \"hate\", then it is more likely to be a negative review. However, this method is not suitable for text classification because it is not scalable. If we have a large number of text data, it is not feasible to manually check the word frequency for each text. Therefore, we need to use machine learning models to classify the text data.\n"
   ]
  }
 ],
 "metadata": {
  "kernelspec": {
   "display_name": "base",
   "language": "python",
   "name": "python3"
  },
  "language_info": {
   "codemirror_mode": {
    "name": "ipython",
    "version": 3
   },
   "file_extension": ".py",
   "mimetype": "text/x-python",
   "name": "python",
   "nbconvert_exporter": "python",
   "pygments_lexer": "ipython3",
   "version": "3.9.16"
  },
  "orig_nbformat": 4
 },
 "nbformat": 4,
 "nbformat_minor": 2
}
